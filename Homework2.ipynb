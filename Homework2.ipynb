{
  "nbformat": 4,
  "nbformat_minor": 0,
  "metadata": {
    "colab": {
      "name": "Untitled0.ipynb",
      "provenance": [],
      "include_colab_link": true
    },
    "kernelspec": {
      "name": "python3",
      "display_name": "Python 3"
    },
    "language_info": {
      "name": "python"
    }
  },
  "cells": [
    {
      "cell_type": "markdown",
      "metadata": {
        "id": "view-in-github",
        "colab_type": "text"
      },
      "source": [
        "<a href=\"https://colab.research.google.com/github/dm-sap/dm-sap/blob/main/Homework2.ipynb\" target=\"_parent\"><img src=\"https://colab.research.google.com/assets/colab-badge.svg\" alt=\"Open In Colab\"/></a>"
      ]
    },
    {
      "cell_type": "code",
      "metadata": {
        "id": "Dg7gk03DodsH"
      },
      "source": [
        "import matplotlib.pyplot as plt\n",
        "import numpy as np    \n",
        "%matplotlib inline\n",
        "import math"
      ],
      "execution_count": null,
      "outputs": []
    },
    {
      "cell_type": "code",
      "metadata": {
        "colab": {
          "base_uri": "https://localhost:8080/"
        },
        "id": "e6AG0FveojH7",
        "outputId": "588b979b-0700-4d08-c960-a7a8370e39aa"
      },
      "source": [
        "Ncand=1590\n",
        "Nb=640\n",
        "err_Nb=60\n",
        "eps=0.246\n",
        "\n",
        "################################\n",
        "Ns = Ncand-Nb\n",
        "Nx = Ns/eps\n",
        "err_Nx = Nx*((err_Nb**2 + Ncand)/Ns**2)**0.5\n",
        "\n",
        "print('Number of signal events Nx: %.i +/- %.i' %(Nx, err_Nx))\n",
        "print('Relative uncertainty err_Nx/Nx: %.3f' %(err_Nx/Nx))"
      ],
      "execution_count": 5,
      "outputs": [
        {
          "output_type": "stream",
          "text": [
            "Number of signal events Nx: 3861 +/- 292\n",
            "Relative uncertainty err_Nx/Nx: 0.076\n"
          ],
          "name": "stdout"
        }
      ]
    },
    {
      "cell_type": "code",
      "metadata": {
        "id": "PJd0dd5qp0pH",
        "outputId": "1d3eb965-3477-42e7-dbcd-8b22fa35f3b8",
        "colab": {
          "base_uri": "https://localhost:8080/"
        }
      },
      "source": [
        "#which rejection factor is needed on Nb above to obtain the relative uncetrainty < 3.5?\n",
        "\n",
        "a= 0.1**2\n",
        "b= 1\n",
        "c= Ns*(1- Ns*0.035**2)\n",
        "\n",
        "delta=b*b-4*a*c\n",
        "if(delta > 0):\n",
        "  x1=(-b - delta**0.5)/(2*a)\n",
        "  x2=(-b + delta**0.5)/(2*a)\n",
        "  print(\"x1 =\", x1)\n",
        "  print(\"x2 =\", x2)\n",
        "elif(delta == 0):\n",
        "  x=-b/a\n",
        "  print(\"x =\", x)\n",
        "else:\n",
        "  xr=-b/(2*a)\n",
        "  xi=-delta**0.5/(2*a)\n",
        "  x1=complex(xr,xi)\n",
        "  x2=complex(xr,-xi)\n",
        "  print(\"x1 =\", x1)\n",
        "  print(\"x2 =\", x2)\n",
        "print(\"R =\", Nb/x2)"
      ],
      "execution_count": 15,
      "outputs": [
        {
          "output_type": "stream",
          "text": [
            "x1 = -184.37354650376687\n",
            "x2 = 84.3735465037669\n",
            "R = 7.585315854554328\n"
          ],
          "name": "stdout"
        }
      ]
    },
    {
      "cell_type": "code",
      "metadata": {
        "id": "GTXnrYqzY0z4",
        "outputId": "21bcbf49-d0b1-4a26-ca14-fafb9c30727d",
        "colab": {
          "base_uri": "https://localhost:8080/"
        }
      },
      "source": [
        "#Liminte inferiore errore relativo\n",
        "\n",
        "print(\"Min Relative uncertainty err_Nx/Nx =\", 1/Ns**0.5)"
      ],
      "execution_count": 16,
      "outputs": [
        {
          "output_type": "stream",
          "text": [
            "Min Relative uncertainty err_Nx/Nx = 0.03244428422615251\n"
          ],
          "name": "stdout"
        }
      ]
    }
  ]
}