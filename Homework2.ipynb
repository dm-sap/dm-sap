{
  "nbformat": 4,
  "nbformat_minor": 0,
  "metadata": {
    "kernelspec": {
      "name": "python2",
      "display_name": "Python 2"
    },
    "colab": {
      "name": "Copia di Dbscan.ipynb",
      "provenance": [],
      "include_colab_link": true
    }
  },
  "cells": [
    {
      "cell_type": "markdown",
      "metadata": {
        "id": "view-in-github",
        "colab_type": "text"
      },
      "source": [
        "<a href=\"https://colab.research.google.com/github/dm-sap/dm-sap/blob/main/Homework2.ipynb\" target=\"_parent\"><img src=\"https://colab.research.google.com/assets/colab-badge.svg\" alt=\"Open In Colab\"/></a>"
      ]
    },
    {
      "cell_type": "code",
      "metadata": {
        "id": "CACAshH7PQTG"
      },
      "source": [
        "import matplotlib.pyplot as plt\n",
        "import numpy as np    \n",
        "%matplotlib inline\n",
        "import pandas as pd\n",
        "import scipy.stats as stats\n",
        "import math"
      ],
      "execution_count": 24,
      "outputs": []
    },
    {
      "cell_type": "code",
      "metadata": {
        "id": "08B_X3oS0SKD",
        "outputId": "b6b9e77c-6771-48bb-f13f-b15cac1b3997",
        "colab": {
          "base_uri": "https://localhost:8080/",
          "height": 694
        }
      },
      "source": [
        "Ncand = 1590\n",
        "Nb = 640\n",
        "err = 60\n",
        "eps = 0.246\n",
        "\n",
        "##########################\n",
        "\n",
        "Nx = Ncand-Nb\n",
        "dev_st = (Nx+Nb)**0.5\n",
        "print(dev_st)\n",
        "\n",
        "plt.hist(np.random.poisson(err**2,Nb),100)\n",
        "plt.hist(np.random.poisson(dev_st**2,Nx),100)"
      ],
      "execution_count": 42,
      "outputs": [
        {
          "output_type": "stream",
          "text": [
            "39.8748040748\n"
          ],
          "name": "stdout"
        },
        {
          "output_type": "execute_result",
          "data": {
            "text/plain": [
              "(array([ 1.,  0.,  0.,  0.,  0.,  0.,  1.,  0.,  0.,  0.,  0.,  0.,  0.,\n",
              "         0.,  0.,  2.,  0.,  1.,  1.,  2.,  0.,  2.,  3.,  0.,  4.,  2.,\n",
              "         5.,  3.,  4.,  4.,  2.,  3.,  6.,  7.,  9., 11.,  8.,  8., 14.,\n",
              "         5., 15., 14., 13., 19., 13., 22., 15., 23., 17., 23., 27., 26.,\n",
              "        21., 18., 33.,  8., 25., 24., 18., 32., 14., 25., 20., 32., 27.,\n",
              "        13., 16., 12., 24.,  6., 19., 18., 21., 21., 16., 18., 10., 14.,\n",
              "        14.,  4., 19.,  7.,  9.,  7.,  8.,  7.,  6.,  1.,  2.,  3.,  0.,\n",
              "         5.,  3.,  2.,  2.,  2.,  4.,  1.,  1.,  3.]),\n",
              " array([1440.  , 1442.57, 1445.14, 1447.71, 1450.28, 1452.85, 1455.42,\n",
              "        1457.99, 1460.56, 1463.13, 1465.7 , 1468.27, 1470.84, 1473.41,\n",
              "        1475.98, 1478.55, 1481.12, 1483.69, 1486.26, 1488.83, 1491.4 ,\n",
              "        1493.97, 1496.54, 1499.11, 1501.68, 1504.25, 1506.82, 1509.39,\n",
              "        1511.96, 1514.53, 1517.1 , 1519.67, 1522.24, 1524.81, 1527.38,\n",
              "        1529.95, 1532.52, 1535.09, 1537.66, 1540.23, 1542.8 , 1545.37,\n",
              "        1547.94, 1550.51, 1553.08, 1555.65, 1558.22, 1560.79, 1563.36,\n",
              "        1565.93, 1568.5 , 1571.07, 1573.64, 1576.21, 1578.78, 1581.35,\n",
              "        1583.92, 1586.49, 1589.06, 1591.63, 1594.2 , 1596.77, 1599.34,\n",
              "        1601.91, 1604.48, 1607.05, 1609.62, 1612.19, 1614.76, 1617.33,\n",
              "        1619.9 , 1622.47, 1625.04, 1627.61, 1630.18, 1632.75, 1635.32,\n",
              "        1637.89, 1640.46, 1643.03, 1645.6 , 1648.17, 1650.74, 1653.31,\n",
              "        1655.88, 1658.45, 1661.02, 1663.59, 1666.16, 1668.73, 1671.3 ,\n",
              "        1673.87, 1676.44, 1679.01, 1681.58, 1684.15, 1686.72, 1689.29,\n",
              "        1691.86, 1694.43, 1697.  ]),\n",
              " <a list of 100 Patch objects>)"
            ]
          },
          "metadata": {
            "tags": []
          },
          "execution_count": 42
        },
        {
          "output_type": "display_data",
          "data": {
            "image/png": "[encoded data removed]",
            "text/plain": [
              "<Figure size 432x288 with 1 Axes>"
            ]
          },
          "metadata": {
            "tags": [],
            "needs_background": "light"
          }
        }
      ]
    },
    {
      "cell_type": "code",
      "metadata": {
        "id": "CDezli2HQHcn"
      },
      "source": [
        ""
      ],
      "execution_count": null,
      "outputs": []
    }
  ]
}