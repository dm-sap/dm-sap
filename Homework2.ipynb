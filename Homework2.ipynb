{
  "nbformat": 4,
  "nbformat_minor": 0,
  "metadata": {
    "colab": {
      "name": "Untitled0.ipynb",
      "provenance": [],
      "authorship_tag": "ABX9TyPhEGcyPklcaH+93Vp6AQtL",
      "include_colab_link": true
    },
    "kernelspec": {
      "name": "python3",
      "display_name": "Python 3"
    },
    "language_info": {
      "name": "python"
    }
  },
  "cells": [
    {
      "cell_type": "markdown",
      "metadata": {
        "id": "view-in-github",
        "colab_type": "text"
      },
      "source": [
        "<a href=\"https://colab.research.google.com/github/dm-sap/dm-sap/blob/main/Homework2.ipynb\" target=\"_parent\"><img src=\"https://colab.research.google.com/assets/colab-badge.svg\" alt=\"Open In Colab\"/></a>"
      ]
    },
    {
      "cell_type": "code",
      "metadata": {
        "id": "Dg7gk03DodsH"
      },
      "source": [
        "import matplotlib.pyplot as plt\n",
        "import numpy as np    \n",
        "%matplotlib inline\n",
        "import math"
      ],
      "execution_count": 1,
      "outputs": []
    },
    {
      "cell_type": "code",
      "metadata": {
        "colab": {
          "base_uri": "https://localhost:8080/"
        },
        "id": "e6AG0FveojH7",
        "outputId": "9e9b0887-7ce1-4b62-fbe4-248d66dcf916"
      },
      "source": [
        "Ncand=1590\n",
        "Nb=640\n",
        "err_Nb=60\n",
        "eps=0.246\n",
        "\n",
        "################################\n",
        "Ns = Ncand-Nb\n",
        "Nx = Ns/eps\n",
        "err_Nx = Nx*((err_Nb**2 + Ncand)/Ns**2)**0.5\n",
        "\n",
        "print('Number of signal events Nx: %.i +/- %.i' %(Nx, err_Nx))\n",
        "print('Relative uncertainty err_Nx/Nx: %.3f' %(err_Nx/Nx))"
      ],
      "execution_count": 9,
      "outputs": [
        {
          "output_type": "stream",
          "text": [
            "Number of signal events Nx: 3861 +/- 292\n",
            "Relative uncertainty err_Nx/Nx: 0.076\n"
          ],
          "name": "stdout"
        }
      ]
    },
    {
      "cell_type": "code",
      "metadata": {
        "id": "PJd0dd5qp0pH"
      },
      "source": [
        ""
      ],
      "execution_count": null,
      "outputs": []
    }
  ]
}