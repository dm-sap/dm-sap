{
  "nbformat": 4,
  "nbformat_minor": 0,
  "metadata": {
    "colab": {
      "name": "Homework4.ipynb",
      "provenance": [],
      "collapsed_sections": [],
      "authorship_tag": "ABX9TyNfF16nHJYc85lZKFE6LhO4",
      "include_colab_link": true
    },
    "kernelspec": {
      "name": "python3",
      "display_name": "Python 3"
    },
    "language_info": {
      "name": "python"
    }
  },
  "cells": [
    {
      "cell_type": "markdown",
      "metadata": {
        "id": "view-in-github",
        "colab_type": "text"
      },
      "source": [
        "<a href=\"https://colab.research.google.com/github/dm-sap/dm-sap/blob/main/Homework4.ipynb\" target=\"_parent\"><img src=\"https://colab.research.google.com/assets/colab-badge.svg\" alt=\"Open In Colab\"/></a>"
      ]
    },
    {
      "cell_type": "code",
      "metadata": {
        "id": "MqT6NFV26wyE"
      },
      "source": [
        "import matplotlib.pyplot as plt\n",
        "import numpy as np    \n",
        "%matplotlib inline\n",
        "import pandas as pd\n",
        "import scipy.stats as stats\n",
        "import math\n",
        "from google.colab import drive\n",
        "import random\n",
        "from matplotlib.pyplot import figure\n",
        "#drive.mount('/content/drive')"
      ],
      "execution_count": 1,
      "outputs": []
    },
    {
      "cell_type": "markdown",
      "metadata": {
        "id": "ppI5s_8I9ZSk"
      },
      "source": [
        "# **Prima Parte:**"
      ]
    },
    {
      "cell_type": "markdown",
      "metadata": {
        "id": "Zk5H0ELAA5pR"
      },
      "source": [
        "## **Metodo VALORI MEDI:**"
      ]
    },
    {
      "cell_type": "code",
      "metadata": {
        "id": "PuyzG1i77L9U"
      },
      "source": [
        "def f(x): \n",
        "  return np.e**(-x**2 / 2)"
      ],
      "execution_count": null,
      "outputs": []
    },
    {
      "cell_type": "code",
      "metadata": {
        "id": "3GVXk6d59iCD"
      },
      "source": [
        "PUNTI = 10000\n",
        "a = -5\n",
        "b =  5\n",
        "steps = 0\n",
        "\n",
        "for i in range(0,PUNTI):\n",
        "  x = np.random.uniform(a,b)\n",
        "  steps += f(x)\n",
        "area = (b-a)/PUNTI * steps\n",
        "print(area)"
      ],
      "execution_count": null,
      "outputs": []
    },
    {
      "cell_type": "markdown",
      "metadata": {
        "id": "3NSAJoqM9ZO0"
      },
      "source": [
        "## **Metodo HIT or MISS :**"
      ]
    },
    {
      "cell_type": "code",
      "metadata": {
        "id": "KUdoZ-kG66oF"
      },
      "source": [
        "PUNTI=10000\n",
        "a=-4\n",
        "b=4\n",
        "fmax=1.01\n",
        "AREA=(b-a)*fmax\n",
        "punti=0\n",
        " \n",
        "xp=[] # ASCISSE CASUALI\n",
        "yp=[] # ORDINATE CASUALI --- SOTTO IL GRAFICO\n",
        "xP=[] # ASCISSE CASUALI\n",
        "yP=[] # ORDINATE CASUALI --- SOPRA IL GRAFICO\n",
        " \n",
        "for p in range(0,PUNTI):\n",
        "  x=random.uniform(a,b)\n",
        "  y=random.uniform(0,fmax)\n",
        "  if y <= f(x):\n",
        "    punti=punti+1\n",
        "    xp.append(x) # punto sotto\n",
        "    yp.append(y) \n",
        "  else:\n",
        "    xP.append(x) # punto sopra\n",
        "    yP.append(y)\n",
        "area=(punti/PUNTI) * AREA\n",
        "sigma= (AREA/PUNTI)*(punti - punti**2/PUNTI)**0.5\n",
        "print(\"PUNTI=%d punti=%d area=%.3f +/- %.3f\" %(PUNTI,punti,area,sigma))\n",
        "pi=(2*np.pi)**0.5\n",
        "print(\"Area teorica: %.3f\" %(pi))\n",
        "X=np.linspace(a-1,b+1)\n",
        "yf=[]\n",
        "for x in X:\n",
        "    yf.append(f(x))\n",
        "\n",
        "figure(figsize=(12,7)) \n",
        "plt.grid()\n",
        "plt.plot(X , yf, color=\"blue\" , linewidth=\"2\") # Funzione\n",
        "plt.scatter(xp, yp, color=\"green\", marker =\".\"  ) # Sotto...\n",
        "plt.scatter(xP, yP, color=\"red\"  , marker =\".\"  ) # Sopra...\n",
        "plt.title(\"Integrazione numerica\")"
      ],
      "execution_count": null,
      "outputs": []
    },
    {
      "cell_type": "markdown",
      "metadata": {
        "id": "AIReB3Qf0fSV"
      },
      "source": [
        "# **Seconda Parte:**"
      ]
    },
    {
      "cell_type": "code",
      "metadata": {
        "id": "KvvrQJnA0vn2"
      },
      "source": [
        "def f1(E):\n",
        "  x=0\n",
        "  if 0.1<E and E<0.9 :\n",
        "    x=1/E\n",
        "  return x\n",
        "\n",
        "def f2(E,mu,sigma):\n",
        "  var=sigma**2\n",
        "  return (1/(2*np.pi*var)**0.5)*np.e**(-(E-mu)**2/(2*var))\n",
        "\n",
        "def F(E):\n",
        "  a1=1\n",
        "  a2=1.5\n",
        "  return a1*f1(E)+a2*f2(E,1,0.01)\n",
        "\n",
        "def g(E, sigma):\n",
        "  return E + sigma * E**0.5 * np.random.normal(0,1)"
      ],
      "execution_count": null,
      "outputs": []
    },
    {
      "cell_type": "code",
      "metadata": {
        "id": "p_uT4pfP1I5m"
      },
      "source": [
        "PUNTI=10000\n",
        "a=0.06\n",
        "b=1.1\n",
        "fmax= 60\n",
        "AREA = (b-a)*fmax\n",
        "punti=0\n",
        " \n",
        "xp=[] # ASCISSE CASUALI\n",
        "yp=[] # ORDINATE CASUALI --- SOTTO IL GRAFICO\n",
        "xP=[] # ASCISSE CASUALI\n",
        "yP=[] # ORDINATE CASUALI --- SOPRA IL GRAFICO\n",
        " \n",
        "for p in range(0,PUNTI):\n",
        "  x=random.uniform(a,b)\n",
        "  if x< b :\n",
        "    y=random.uniform(0,fmax)\n",
        "    if y <= F(x):\n",
        "      punti=punti+1\n",
        "      xp.append(x) # punto sotto\n",
        "      yp.append(y)  \n",
        "    else:\n",
        "      xP.append(x) # punto sopra\n",
        "      yP.append(y)\n",
        "\n",
        "area=(punti/PUNTI) * AREA\n",
        "sigma= (AREA/PUNTI)*(punti - punti**2/PUNTI)**0.5\n",
        "print(\"PUNTI=%d punti=%d area=%.3f +/- %.3f\" %(PUNTI,punti,area,sigma))\n",
        "\n",
        "E=np.arange(0.01,1.21,0.01)\n",
        "G=np.vectorize(F)\n",
        "y=G(E)\n",
        "\n",
        "figure(figsize=(15,7)) \n",
        "plt.grid()\n",
        "plt.hist(xp, bins=200, range=(a,b), histtype = 'step', color = 'black', linewidth = 2 )\n",
        "plt.plot(E , y, color=\"blue\" , linewidth=\"2\")\n",
        "plt.scatter(xp, yp, color=\"green\", marker =\".\" , alpha=0.5)\n",
        "plt.scatter(xP, yP, color=\"red\"  , marker =\".\" , alpha=0.5)\n",
        "plt.title(\"Integrazione numerica\")\n",
        "plt.xlabel('E [MeV]')\n",
        "plt.ylabel('f(E)')"
      ],
      "execution_count": null,
      "outputs": []
    },
    {
      "cell_type": "markdown",
      "metadata": {
        "id": "kd60C8ZLOKHL"
      },
      "source": [
        "## **Convoluzione**"
      ]
    },
    {
      "cell_type": "code",
      "metadata": {
        "id": "6b1gjgXAKayT"
      },
      "source": [
        "a=[]\n",
        "b=[]\n",
        "c=[]\n",
        "sigma1 = 0.05\n",
        "sigma2 = 0.25\n",
        "sigma3 = 0.01\n",
        "\n",
        "for i in range(0,len(xp)):\n",
        "  a.append(g(xp[i], sigma1))\n",
        "  b.append(g(xp[i], sigma2))\n",
        "  c.append(g(xp[i], sigma3))\n",
        "\n",
        "figure(figsize=(15,7)) \n",
        "\n",
        "plt.hist(a, bins=200, range=(0.1,1.05), histtype = 'step', color = 'red', linewidth = 1 , label = '(f*g)(E), sigma= 0.05 * E^0.5)')\n",
        "plt.hist(b, bins=200, range=(0.1,1.05), histtype = 'step', color = 'blue', linewidth = 1 , label = '(f*g)(E), sigma= 0.25 * E^0.5)' )\n",
        "plt.hist(c, bins=200, range=(0.1,1.05), histtype = 'step', color = 'green', linewidth = 1 , label = '(f*g)(E), sigma= 0.01 * E^0.5)' )\n",
        "plt.plot(E , y, color=\"navy\" , linewidth = 2,  label = 'f(E)')\n",
        "plt.title('Convoluzione')\n",
        "plt.xlabel('E [MeV]')\n",
        "plt.ylabel('(f*g)(E)')\n",
        "plt.grid()\n",
        "plt.legend()"
      ],
      "execution_count": null,
      "outputs": []
    },
    {
      "cell_type": "markdown",
      "metadata": {
        "id": "Vl1m7gOIOKPD"
      },
      "source": [
        "#**Terza Parte**"
      ]
    },
    {
      "cell_type": "code",
      "metadata": {
        "id": "7RPBchWqMpYa"
      },
      "source": [
        "from mpl_toolkits.mplot3d import Axes3D\n",
        "from mpl_toolkits.mplot3d.art3d import Poly3DCollection\n",
        "import numpy as np\n",
        "import matplotlib.pyplot as plt\n",
        "\n",
        "def cross_section(theta):\n",
        "  return 2*np.pi*(1+np.cos(theta+np.pi/2)**2)*np.sin(theta+np.pi/2)\n",
        "\n",
        "def cross_section_2(theta):\n",
        "  return 2*np.pi*np.sin(theta+np.pi/2)**3\n",
        "\n",
        "def cuboid_data2(o, size=(1,1,1)):\n",
        "    X = [[[0, 1, 0], [0, 0, 0], [1, 0, 0], [1, 1, 0]],\n",
        "         [[0, 0, 0], [0, 0, 1], [1, 0, 1], [1, 0, 0]],\n",
        "         [[1, 0, 1], [1, 0, 0], [1, 1, 0], [1, 1, 1]],\n",
        "         [[0, 0, 1], [0, 0, 0], [0, 1, 0], [0, 1, 1]],\n",
        "         [[0, 1, 0], [0, 1, 1], [1, 1, 1], [1, 1, 0]],\n",
        "         [[0, 1, 1], [0, 0, 1], [1, 0, 1], [1, 1, 1]]]\n",
        "    X = np.array(X).astype(float)\n",
        "    for i in range(3):\n",
        "        X[:,:,i] *= size[i]\n",
        "    X += np.array(o)\n",
        "    return X\n",
        "\n",
        "def plotCubeAt2(positions, sizes, colors, **kwargs):\n",
        "    g = []\n",
        "    for p,s,c in zip(positions,sizes,colors):\n",
        "        g.append( cuboid_data2(p, size=s))\n",
        "    return Poly3DCollection(np.concatenate(g), facecolors=np.repeat(colors,6), **kwargs)\n",
        "    \n",
        "def retta(phi,theta):\n",
        "  r=3.5\n",
        "  line=[]\n",
        "  line.append(r*np.cos(phi)*np.sin(theta))\n",
        "  line.append(r*np.sin(phi)*np.sin(theta))\n",
        "  line.append(r*np.cos(theta))\n",
        "  return line\n",
        "\n",
        "def assorbimento(rho):\n",
        "  return np.e**(-rho)\n"
      ],
      "execution_count": 2,
      "outputs": []
    },
    {
      "cell_type": "markdown",
      "metadata": {
        "id": "rtlGnJlqQooc"
      },
      "source": [
        "## **Cross Section = 1 + cos^2(x)**"
      ]
    },
    {
      "cell_type": "code",
      "metadata": {
        "id": "ENZQNp6nbsD7"
      },
      "source": [
        "PUNTI=10000\n",
        "a=-np.pi/2\n",
        "b=np.pi/2\n",
        "fmax=6.9\n",
        "AREA=(b-a)*fmax\n",
        "punti=0\n",
        "\n",
        "P =[] # emissioni utili\n",
        "xp=[] # ASCISSE CASUALI\n",
        "yp=[] # ORDINATE CASUALI --- SOTTO IL GRAFICO\n",
        "xP=[] # ASCISSE CASUALI\n",
        "yP=[] # ORDINATE CASUALI --- SOPRA IL GRAFICO\n",
        " \n",
        "for p in range(0,PUNTI):\n",
        "  x = random.uniform(a,b)\n",
        "  y = random.uniform(0,fmax)\n",
        "  if y <= cross_section(x):\n",
        "    punti=punti+1\n",
        "    xp.append(x) # punto sotto\n",
        "    yp.append(y)\n",
        "    R = np.random.uniform(0,2*np.pi)\n",
        "    if np.cos(R)>0 :\n",
        "      if -1/4 < np.tan(R) and np.tan(R) < 1/4 :\n",
        "        temp = []\n",
        "        temp.append(R)\n",
        "        if 1/2 < 1/(np.cos(R)*np.tan(x)) and 1/(np.cos(R)*np.tan(x)) < 1 :\n",
        "          temp.append(x)\n",
        "          P.append(temp)\n",
        "  else:\n",
        "    xP.append(x) # punto sopra\n",
        "    yP.append(y)\n",
        "\n",
        "area=(punti/PUNTI) * AREA\n",
        "sigma= (AREA/PUNTI)*(punti - punti**2/PUNTI)**0.5\n",
        "print(\"PUNTI=%d punti=%d area=%.3f +/- %.3f\" %(PUNTI,punti,area,sigma))\n",
        "\n",
        "E=np.arange(a, b, 0.01)\n",
        "G=np.vectorize(cross_section)\n",
        "y=G(E)\n",
        "\n",
        "figure(figsize=(15,7)) \n",
        "plt.grid()\n",
        "plt.plot(E , y, color=\"blue\" , linewidth=\"2\")\n",
        "plt.scatter(xp, yp, color=\"green\", marker =\".\"  ) \n",
        "plt.scatter(xP, yP, color=\"red\"  , marker =\".\"  ) \n",
        "plt.xlabel('Theta')\n",
        "plt.ylabel('PDF(Theta)')\n",
        "plt.title(\"Integrazione numerica\")\n",
        "print(len(P))"
      ],
      "execution_count": null,
      "outputs": []
    },
    {
      "cell_type": "code",
      "metadata": {
        "id": "f8fel0klU3tC"
      },
      "source": [
        "# costruzione cubo + rilevatore\n",
        "positions = [(1,-1/2,1),(2,-1/2,1)]\n",
        "sizes = [(1,1,1),(0,1,1)]\n",
        "colors = [\"lime\",\"red\"]\n",
        "\n",
        "fig = plt.figure(figsize=(15,15))\n",
        "ax = fig.gca(projection='3d')\n",
        "for i in range(0,len(P)):\n",
        "  X=[0]\n",
        "  Y=[0]\n",
        "  Z=[0]\n",
        "  X.append(retta(P[i][0],P[i][1])[0])\n",
        "  Y.append(retta(P[i][0],P[i][1])[1])\n",
        "  Z.append(retta(P[i][0],P[i][1])[2])\n",
        "  ax.plot3D(X,Y,Z)\n",
        "\n",
        "pc = plotCubeAt2(positions,sizes,colors=colors, edgecolor=\"k\", alpha=0.5)\n",
        "ax.add_collection3d(pc) \n",
        "ax.scatter(0,0,0, color='navy')\n",
        "ax.set_title('Schematizzazione Detector')\n",
        "ax.set_xlabel('X')\n",
        "ax.set_ylabel('Y')\n",
        "ax.set_zlabel('Z')\n",
        "ax.set_xlim([0,2])\n",
        "ax.set_ylim([-1,1])\n",
        "ax.set_zlim([0,2])\n",
        "ax.view_init(35,-70)"
      ],
      "execution_count": null,
      "outputs": []
    },
    {
      "cell_type": "markdown",
      "metadata": {
        "id": "7v_Fws3cYVyT"
      },
      "source": [
        "## **Assorbimento**:"
      ]
    },
    {
      "cell_type": "code",
      "metadata": {
        "id": "NLDDwa1q1f3M"
      },
      "source": [
        "E=np.arange(0.01,5,0.01)\n",
        "Abs=np.vectorize(assorbimento)\n",
        "y=Abs(E)\n",
        "\n",
        "figure(figsize=(15,7)) \n",
        "plt.grid()\n",
        "plt.plot(E , y, color=\"blue\" , linewidth=\"2\")\n",
        "plt.title('Assorbimento materiale')\n",
        "plt.xlabel('Distanza [m]')\n",
        "plt.ylabel('Assorbimento')\n",
        "plt.grid(True)"
      ],
      "execution_count": null,
      "outputs": []
    },
    {
      "cell_type": "code",
      "metadata": {
        "id": "poJaTkFG4XFy",
        "colab": {
          "base_uri": "https://localhost:8080/"
        },
        "outputId": "99f28b6d-2df7-4dba-9139-625fc9430364"
      },
      "source": [
        "# distanza origine rilevatore per perticella:\n",
        "distance=[]\n",
        "for i in range(0,len(P)):\n",
        "  dis_tot = 2/(np.cos(P[i][0])*np.sin(P[i][1]))\n",
        "  dis_out = 1/(np.cos(P[i][0])*np.sin(P[i][1]))\n",
        "  high = dis_out * np.cos(P[i][1])\n",
        "  if high >= 1:\n",
        "    distance.append(dis_tot - dis_out)\n",
        "  else:\n",
        "    dis_out_z = 1/np.cos(P[i][1])\n",
        "    distance.append(dis_tot-dis_out_z)\n",
        "# Assorbimento  percentuale materiale:\n",
        "Abs=[]\n",
        "Abs_dec=[]\n",
        "k=0\n",
        "\n",
        "for i in range(0,len(P)):\n",
        "  Abs.append(1-assorbimento(distance[i]))\n",
        "  if np.random.binomial(1, assorbimento(distance[i])) == 1:\n",
        "    Abs_dec.append(P[i])\n",
        "    k += 1\n",
        "print('Il numero di particelle assorbite è: %i'%(len(P)-k))\n",
        "print('L assorbimento medio del materiale è: %.2f (per cento) '%(sum(Abs)*100 / len(Abs)))"
      ],
      "execution_count": 19,
      "outputs": [
        {
          "output_type": "stream",
          "text": [
            "Il numero di particelle assorbite è: 37\n",
            "L assorbimento medio del materiale è: 48.55 (per cento) \n"
          ],
          "name": "stdout"
        }
      ]
    },
    {
      "cell_type": "code",
      "metadata": {
        "id": "dPpc9bVi_pA1"
      },
      "source": [
        "# Hit delle particelle\n",
        "\n",
        "hit_y = []\n",
        "hit_z = []\n",
        "for i in range(0,len(Abs_dec)):\n",
        "  r = 2/(np.cos(Abs_dec[i][0])*np.sin(Abs_dec[i][1]))\n",
        "  y = r*np.sin(Abs_dec[i][0])*np.sin(Abs_dec[i][1])\n",
        "  hit_y.append(y)\n",
        "  z = r*np.cos(P[i][1])\n",
        "  hit_z.append(z)\n",
        "figure(figsize=(8,8))\n",
        "plt.plot(hit_y,hit_z,'r.', markersize=10)\n",
        "plt.title('Detector surface')\n",
        "plt.xlabel('Y')\n",
        "plt.ylabel('Z')\n",
        "plt.xlim(-1/2,1/2)\n",
        "plt.ylim(1,2)\n",
        "plt.grid()"
      ],
      "execution_count": null,
      "outputs": []
    },
    {
      "cell_type": "markdown",
      "metadata": {
        "id": "cIg6Una9CTqW"
      },
      "source": [
        "## **Accettanza**:"
      ]
    },
    {
      "cell_type": "code",
      "metadata": {
        "id": "KNAX_UXXCZCA",
        "outputId": "c4798670-1e81-4884-e44a-498b04c3ae0f",
        "colab": {
          "base_uri": "https://localhost:8080/"
        }
      },
      "source": [
        "A=len(P)/PUNTI\n",
        "print('L ACCETTANZA è: %.3f (per cento)' %(A*100))"
      ],
      "execution_count": 26,
      "outputs": [
        {
          "output_type": "stream",
          "text": [
            "L ACCETTANZA è: 0.160 (per cento)\n"
          ],
          "name": "stdout"
        }
      ]
    },
    {
      "cell_type": "markdown",
      "metadata": {
        "id": "IQhHL5vmQ6H4"
      },
      "source": [
        "## **Cross Section = sin^2(x)**"
      ]
    },
    {
      "cell_type": "code",
      "metadata": {
        "id": "dYEV5yKDRCvh"
      },
      "source": [
        "PUNTI=10000\n",
        "a=-np.pi/2\n",
        "b=np.pi/2\n",
        "fmax=6.3\n",
        "AREA=(b-a)*fmax\n",
        "punti=0\n",
        "\n",
        "P =[] # emissioni utili\n",
        "xp=[] # ASCISSE CASUALI\n",
        "yp=[] # ORDINATE CASUALI --- SOTTO IL GRAFICO\n",
        "xP=[] # ASCISSE CASUALI\n",
        "yP=[] # ORDINATE CASUALI --- SOPRA IL GRAFICO\n",
        " \n",
        "for p in range(0,PUNTI):\n",
        "  x = random.uniform(a,b)\n",
        "  y = random.uniform(0,fmax)\n",
        "  if y <= cross_section_2(x):\n",
        "    punti=punti+1\n",
        "    xp.append(x) # punto sotto\n",
        "    yp.append(y)\n",
        "    R = np.random.uniform(0,2*np.pi)\n",
        "    if np.cos(R)>0 :\n",
        "      if -1/4 < np.tan(R) and np.tan(R) < 1/4 :\n",
        "        temp = []\n",
        "        temp.append(R)\n",
        "        if 1/2 < 1/(np.cos(R)*np.tan(x)) and 1/(np.cos(R)*np.tan(x)) < 1 :\n",
        "          temp.append(x)\n",
        "          P.append(temp)\n",
        "  else:\n",
        "    xP.append(x) # punto sopra\n",
        "    yP.append(y)\n",
        "\n",
        "area=(punti/PUNTI) * AREA\n",
        "sigma= (AREA/PUNTI)*(punti - punti**2/PUNTI)**0.5\n",
        "print(\"PUNTI=%d punti=%d area=%.3f +/- %.3f\" %(PUNTI,punti,area,sigma))\n",
        "\n",
        "E=np.arange(a,b,0.01)\n",
        "G=np.vectorize(cross_section_2)\n",
        "y=G(E)\n",
        "\n",
        "figure(figsize=(15,7)) \n",
        "plt.grid()\n",
        "plt.plot(E , y, color=\"blue\" , linewidth=\"2\")\n",
        "plt.scatter(xp, yp, color=\"green\", marker =\".\"  ) \n",
        "plt.scatter(xP, yP, color=\"red\"  , marker =\".\"  ) \n",
        "plt.xlabel('Theta')\n",
        "plt.ylabel('PDF(Theta)')\n",
        "plt.title(\"Integrazione numerica\")\n",
        "print(len(P))"
      ],
      "execution_count": null,
      "outputs": []
    },
    {
      "cell_type": "code",
      "metadata": {
        "id": "YvQRN5lZRCg2"
      },
      "source": [
        "# costruzione cubo + rilevatore\n",
        "positions = [(1,-1/2,1),(2,-1/2,1)]\n",
        "sizes = [(1,1,1),(0,1,1)]\n",
        "colors = [\"lime\",\"red\"]\n",
        "\n",
        "fig = plt.figure(figsize=(15,15))\n",
        "ax = fig.gca(projection='3d')\n",
        "for i in range(0,len(P)):\n",
        "  X=[0]\n",
        "  Y=[0]\n",
        "  Z=[0]\n",
        "  X.append(retta(P[i][0],P[i][1])[0])\n",
        "  Y.append(retta(P[i][0],P[i][1])[1])\n",
        "  Z.append(retta(P[i][0],P[i][1])[2])\n",
        "  ax.plot3D(X,Y,Z)\n",
        "\n",
        "pc = plotCubeAt2(positions,sizes,colors=colors, edgecolor=\"k\", alpha=0.5)\n",
        "ax.add_collection3d(pc) \n",
        "ax.scatter(0,0,0, color='navy')\n",
        "ax.set_title('Schematizzazione Detector')\n",
        "ax.set_xlabel('X')\n",
        "ax.set_ylabel('Y')\n",
        "ax.set_zlabel('Z')\n",
        "ax.set_xlim([0,2])\n",
        "ax.set_ylim([-1,1])\n",
        "ax.set_zlim([0,2])\n",
        "ax.view_init(35,-70)"
      ],
      "execution_count": null,
      "outputs": []
    },
    {
      "cell_type": "markdown",
      "metadata": {
        "id": "w3UC8JNkR6Qy"
      },
      "source": [
        "## **Assorbimento**:"
      ]
    },
    {
      "cell_type": "code",
      "metadata": {
        "id": "DUDcw3EUR6Q8"
      },
      "source": [
        "E=np.arange(0.01,5,0.01)\n",
        "Abs=np.vectorize(assorbimento)\n",
        "y=Abs(E)\n",
        "\n",
        "figure(figsize=(15,7)) \n",
        "plt.grid()\n",
        "plt.plot(E , y, color=\"blue\" , linewidth=\"2\")\n",
        "plt.title('Assorbimento materiale')\n",
        "plt.xlabel('Distanza [m]')\n",
        "plt.ylabel('Assorbimento')\n",
        "plt.grid(True)"
      ],
      "execution_count": null,
      "outputs": []
    },
    {
      "cell_type": "code",
      "metadata": {
        "id": "wgHmM32yR6Q9",
        "colab": {
          "base_uri": "https://localhost:8080/"
        },
        "outputId": "25ab00d4-33c6-4f17-9180-db4d1d5f04f5"
      },
      "source": [
        "# distanza origine rilevatore per perticella:\n",
        "distance=[]\n",
        "for i in range(0,len(P)):\n",
        "  dis_tot = 2/(np.cos(P[i][0])*np.sin(P[i][1]))\n",
        "  dis_out = 1/(np.cos(P[i][0])*np.sin(P[i][1]))\n",
        "  high = dis_out * np.cos(P[i][1])\n",
        "  if high >= 1:\n",
        "    distance.append(dis_tot - dis_out)\n",
        "  else:\n",
        "    dis_out_z = 1/np.cos(P[i][1])\n",
        "    distance.append(dis_tot-dis_out_z)\n",
        "# Assorbimento  percentuale materiale:\n",
        "Abs=[]\n",
        "Abs_dec=[]\n",
        "k=0\n",
        "\n",
        "for i in range(0,len(P)):\n",
        "  Abs.append(1-assorbimento(distance[i]))\n",
        "  if np.random.binomial(1, assorbimento(distance[i])) == 1:\n",
        "    Abs_dec.append(P[i])\n",
        "    k += 1\n",
        "print('Il numero di particelle assorbite è: %i'%(len(P)-k))\n",
        "print('L assorbimento medio del materiale è: %.2f (per cento) '%(sum(Abs)*100 / len(Abs)))"
      ],
      "execution_count": 25,
      "outputs": [
        {
          "output_type": "stream",
          "text": [
            "Il numero di particelle assorbite è: 7\n",
            "L assorbimento medio del materiale è: 59.42 (per cento) \n"
          ],
          "name": "stdout"
        }
      ]
    },
    {
      "cell_type": "code",
      "metadata": {
        "id": "4e3Pen5DR6Q-"
      },
      "source": [
        "# Hit delle particelle\n",
        "\n",
        "hit_y = []\n",
        "hit_z = []\n",
        "for i in range(0,len(Abs_dec)):\n",
        "  r = 2/(np.cos(Abs_dec[i][0])*np.sin(Abs_dec[i][1]))\n",
        "  y = r*np.sin(Abs_dec[i][0])*np.sin(Abs_dec[i][1])\n",
        "  hit_y.append(y)\n",
        "  z = r*np.cos(P[i][1])\n",
        "  hit_z.append(z)\n",
        "figure(figsize=(8,8))\n",
        "plt.plot(hit_y,hit_z,'r.', markersize=10)\n",
        "plt.title('Detector surface')\n",
        "plt.xlabel('Y')\n",
        "plt.ylabel('Z')\n",
        "plt.xlim(-1/2,1/2)\n",
        "plt.ylim(1,2)\n",
        "plt.grid()"
      ],
      "execution_count": null,
      "outputs": []
    },
    {
      "cell_type": "markdown",
      "metadata": {
        "id": "20SdYN3_SYj3"
      },
      "source": [
        "## **Accettanza**:"
      ]
    },
    {
      "cell_type": "code",
      "metadata": {
        "id": "9Dnlqr6KSYkX",
        "outputId": "45b52135-6dc8-40d7-a497-643fdfd0a020",
        "colab": {
          "base_uri": "https://localhost:8080/"
        }
      },
      "source": [
        "A=len(P)/PUNTI\n",
        "print('L ACCETTANZA è: %.3f (per cento)' %(A*100))"
      ],
      "execution_count": 28,
      "outputs": [
        {
          "output_type": "stream",
          "text": [
            "L ACCETTANZA è: 0.160 (per cento)\n"
          ],
          "name": "stdout"
        }
      ]
    }
  ]
}